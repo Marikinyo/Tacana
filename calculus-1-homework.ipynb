{
 "cells": [
  {
   "cell_type": "code",
   "execution_count": null,
   "metadata": {},
   "outputs": [],
   "source": [
    "%load_ext autoreload\n",
    "%autoreload 2\n",
    "\n",
    "%matplotlib inline"
   ]
  },
  {
   "cell_type": "markdown",
   "metadata": {},
   "source": [
    "## Basic setup"
   ]
  },
  {
   "cell_type": "markdown",
   "metadata": {},
   "source": [
    "Create anaconda environment\n",
    "<br>\n",
    "```bash\n",
    "conda create -n ml python=3.7.4 jupyter\n",
    "```\n",
    "Install fastai library\n",
    "<br>\n",
    "```bash\n",
    "conda install -c pytorch -c fastai fastai\n",
    "```"
   ]
  },
  {
   "cell_type": "code",
   "execution_count": null,
   "metadata": {},
   "outputs": [],
   "source": [
    "!pip install https://github.com/ipython-contrib/jupyter_contrib_nbextensions/tarball/master\n",
    "!pip install jupyter_nbextensions_configurator\n",
    "!jupyter contrib nbextension install --user\n",
    "!jupyter nbextensions_configurator enable --user"
   ]
  },
  {
   "cell_type": "markdown",
   "metadata": {},
   "source": [
    "# Metric spaces"
   ]
  },
  {
   "cell_type": "markdown",
   "metadata": {},
   "source": [
    "#### Prove that:\n",
    "For every metric space (X, d):\n",
    "- For any $\\mathcal{U} = \\{U | U$ is open in $(X, d)\\}$ holds $\\bigcup_{U \\in \\mathcal{U}} U$ is open in $(X, d)$<br>\n",
    "From the definition of open set in metric space we can write:<br>\n",
    "$U$ is open in $(X,d)$ if $\\exists\\epsilon>0 $such that $y\\in R^n, x \\in U\\  \\ d(x,y)<\\epsilon$ where $y\\in U$ too<br>\n",
    "Hence, if $x,y \\in U \\implies x,y \\in \\bigcup U$, so $\\bigcup U$ is also open in $(X, d)$<br>\n",
    "\n",
    "- For any two $U, V \\subset X$ open in $(X, d)$ holds: $U \\cap V$ is open in $(X, d)$<br>\n",
    "Consider $x\\in U$ and also $x\\in V. (*)$ same for $y:$ $y\\in U,V \\land y\\in R^n (**)$<br>\n",
    "$(*) \\land (**) \\implies x,y \\in U\\cap V$.<br>\n",
    "So, from the definition of open sets in metrix space $U \\cap V$ is open in $(X, d)$\n",
    "\n",
    "- $X$ is open in $(X, d)$<br>\n",
    "$X$ is open in $(X, d)$, because every point in the set has an open neighbourhood of other points also in the set.\n",
    "- $\\emptyset$ is open in $(X, d)$<br>\n",
    "All the points of $\\emptyset$ are interior points"
   ]
  },
  {
   "cell_type": "markdown",
   "metadata": {},
   "source": [
    "#### Prove that:\n",
    "- For any finity set $(U)_{i=1}^{n}$ of open sets in $(X, d)$, $\\bigcap_{i=1}^{n}U$ is open in $(X, d)$<br>\n",
    "Consider $\\exists x,y \\in \\bigcap_{i=1}^{n}U$ and $y\\in R^n$ too.<br>\n",
    "So, from the definition of open sets in metrix space $\\bigcap_{i=1}^{n}U$ is open in $(X, d)$"
   ]
  },
  {
   "cell_type": "markdown",
   "metadata": {},
   "source": [
    "#### Prove that for set $U \\subset X$ is open if and only if for each point $x \\in U$ there exists the open neighbourhood $V$ of $x$ such that $V \\subset U$<br>\n",
    "$\\forall x\\in U\\ \\ \\exists B(x,\\varepsilon),$ where $\\varepsilon>0$ and by the definition of neighbourhood set $\\exists V:(B(x,\\varepsilon)\\subset V)$<br>\n",
    "If $V\\subset U\\implies B(x,\\varepsilon)\\subset U.$<br>\n",
    "So, by the definiton of open set $U$ is open."
   ]
  },
  {
   "cell_type": "markdown",
   "metadata": {},
   "source": [
    "#### Prove that, closed ball is closed subset in $(X, d)$<br>\n",
    "Suppose $B(x_0,r)$ is closed ball. We want to show that $X\\ B(x_0,r)$ is open.<br>\n",
    "It means that $\\forall y\\in B(x_0,r)(*)$ we need to find a ball which is subset of $X\\ B(x_0,r)$, where $y$ is the center.<br>\n",
    "$(*)\\implies d(y_0,x_0)>r\\implies d(y_0,x_0)-r>0$<br>\n",
    "Let $r'=d(y_0,x_0)-r$ and we nood to prove that $B'(y_0,r')$ is subset of $X\\ B(x_0,r)$<br>\n",
    "Let $c\\in B'(y_0,r'):\\  \\ d(x_0,y_0)\\leq d(x_0,c)+d(c,y_0)\\implies d(x_0,c)\\geq d(x_0,y_0)-d(c,y_0)>d(x_0,y_0)-r'=r$<br>\n",
    "Thus $c\\in X\\B(x_0,r)\\  \\ \\square\n"
   ]
  },
  {
   "cell_type": "markdown",
   "metadata": {},
   "source": [
    "#### Prove that\n",
    "For every metric space (X, d):\n",
    "- For any $\\mathcal{F} = \\{F | F$ is closed in $(X, d)\\}$ holds $\\bigcap_{F \\in \\mathcal{F}} F$ is closed in $(X, d)$<br>\n",
    "We know that $X - \\bigcap_i F_i=\\bigcup_i (X - F_i)$<br>\n",
    "It's clear that $X - F_i$ is open in $X$, so $\\bigcup_i (X - F_i)$ is also open and it's equal to $X - \\bigcup_i F_i$ <br>\n",
    "So, $\\bigcap_i F_i$ is closed in $(X, d)$\n",
    "- For any two $F_1, F_2 \\subset X$ closed in $(X, d)$ holds: $F_1 \\cup F_2$ is closed in $(X, d)$<br>\n",
    "Complement of $F_1 \\cup F_2$ is $\\overline F_1\\bigcap\\overline F_2$<br>\n",
    "$\\overline F_1$ and $\\overline F_2$ are open sets in $(X,d)$ and also their intersection, so complement of $F_1 \\cup F_2$ is open and therefore $F_1 \\cup F_2$ is closed in $(X, d)$\n",
    "- $X$ is closed in $(X, d)$<br>\n",
    "$\\partial X= \\overline X-X=X-X=\\emptyset$<br>\n",
    "So, $X$ doesn't have boundary and from the following definition $X$ is closed<br>\n",
    "A set is closed if and only if it contains all of its boundary points\n",
    "- $\\emptyset$ is closed in $(X, d)$<br>\n",
    " A set is closed if it contains all its boundary points, so $\\emptyset$ is closed"
   ]
  },
  {
   "cell_type": "markdown",
   "metadata": {},
   "source": [
    "#### Prove that:\n",
    "- For any finity set $(F)_{i=1}^{n}$ of closed sets in $(X, d)$, $\\bigcup_{i=1}^{n}F$ is closed in $(X, d)$<br>\n",
    "We know that $X - \\bigcup_{i=1}^{n}F_i=\\bigcap_{i=1}^n(X - F_i)$<br>\n",
    "It's clear that $X - F_i$ is open in $X$, so $\\bigcap_{i=1}^n(X - F_i)$ is also open and it's equal to $X - \\bigcup_{i=1}^{n}F_i$ <br>\n",
    "So, $\\bigcup_{i=1}^{n}F_i$ is closed in $(X, d)$"
   ]
  },
  {
   "cell_type": "markdown",
   "metadata": {},
   "source": [
    "#### Prove that, if $F \\subset X$ is closed then $X - F$ is open in $(X, d)$ <br>\n",
    "$F$ set is closed means that it contains all its boundary points, so $X-F$ doesn't contains these boundary points which are also $X-F$ boundary points.<br>\n",
    "Thats why it contains an open ball about each of\n",
    "its points.<br>\n",
    "From the definition of open set $X-F$ is open in $(X,d)$"
   ]
  },
  {
   "cell_type": "markdown",
   "metadata": {},
   "source": [
    "# Metrics in Euclidean spaces"
   ]
  },
  {
   "cell_type": "markdown",
   "metadata": {},
   "source": [
    "#### Prove that:\n",
    "- for every $u, v \\in \\mathbb{R}^{n}$: $d(u, v) \\geq 0$<br>\n",
    "$d(u,v)=\\sqrt{\\left(\\sum_{i=1}^n|u_i|^2+|v_i|^2\\right)}\\geq0$<br>\n",
    "- for every $v \\in \\mathbb{R}^{n}$: $d(v, v) = 0$<br>\n",
    "$d(v,v)=\\sqrt{\\left(\\sum_{i=1}^n|v_i|^2+|v_i|^2\\right)}=0$<br>\n",
    "- for every $u, v \\in \\mathbb{R}^{n}$: $d(u, v) = d(v, u)$ (symmetry)<br>\n",
    "$d(u,v)=\\sqrt{\\left(\\sum_{i=1}^n|u_i|^2+|v_i|^2\\right)}=\\sqrt{\\left(\\sum_{i=1}^n|v_i|^2+|u_i|^2\\right)}=d(v,u)$<br>\n",
    "- for every $u, v, w \\in \\mathbb{R}^{n}$: $d(u, w) \\leq d(v, u) + d(v, w)$ (triangle inequality)<br>\n",
    "$d(u,v)=\\sqrt{\\left(\\sum_{i=1}^n|u_i|^2+|v_i|^2\\right)}\\leq\\sqrt{\\left(\\sum_{i=1}^n(|u_i|+|v_i|)^2\\right)}\\leq$<br>\n",
    "$\\leq\\sqrt{\\left(\\sum_{i=1}^n(|u_i|+|w_i|)^2+(v_i+w_i)^2\\right)}\\leq\\sqrt{\\left(\\sum_{i=1}^n(|u_i|^2+|w_i|)^2\\right)}+\\sqrt{\\left(\\sum_{i=1}^n(|v_i|+|w_i|)^2\\right)}=d(v, u) + d(v, w)$"
   ]
  },
  {
   "cell_type": "markdown",
   "metadata": {},
   "source": [
    "#### Prove the same properties hold for $d(u, v) = ||u-v||_1$ ($||u-v||_1 = \\sum_{i = 1}^{n}|u_i - v_i|$)<br>\n",
    "$d(u,v)=\\sum_{i = 1}^{n}|u_i - v_i|$ and sum of non-negatives must be non-negative<br>\n",
    "$d(v,v)=\\sum_{i = 1}^{n}|v_i - v_i|=\\sum_{i = 1}^{n}|0|=0$<br>\n",
    "$d(u,v)\\sum_{i = 1}^{n}|u_i - v_i|=\\sum_{i = 1}^{n}|v_i - u_i|=d(v,u)$<br>\n",
    "$d(u,w)\\sum_{i = 1}^{n}|u_i - w_i|\\leq\\sum_{i = 1}^{n}|v_i - u_i|+\\sum_{i = 1}^{n}|v_i - w_i|=d(v,u)+d(v,w)$"
   ]
  },
  {
   "cell_type": "markdown",
   "metadata": {},
   "source": [
    "## Sequences and limits"
   ]
  },
  {
   "cell_type": "markdown",
   "metadata": {},
   "source": [
    "#### Prove that $x = \\lim_{n\\to\\infty}{x_n}$ in $(X, d)$ if and only if (iff) for every $r \\in \\mathbb{R}$ there exists $n_0 \\in \\mathbb{N}$ such that: $x_i \\in B(x, r)$ for every $i \\gt n_0$"
   ]
  },
  {
   "cell_type": "markdown",
   "metadata": {},
   "source": [
    "#### Prove that if $x = \\lim_{n\\to\\infty}{x_n}$ and $x \\notin \\{-\\infty, \\infty\\}$ then $(x_i)_{i=1}^{\\infty} = (x_1, x_2, \\dots, x_n)$ is a Cauchy sequence\n",
    "<br>\n",
    "For closed set $F \\subset \\mathbb{R}^n$ and convergent sequence $(x_i)_{i=1}^{\\infty} = (x_1, x_2, \\dots, x_n)$ such that there exists $n_0 \\in \\mathbb{N}$ such that $x_i \\in F$ for each $i \\gt n_0$ then: $\\lim_{n\\to\\infty}{x_n} \\in F$"
   ]
  },
  {
   "cell_type": "markdown",
   "metadata": {},
   "source": [
    "#### Prove that if $F$ is open from previous example, statement does not hold. <br>\n",
    "$\\exists x\\in\\overline F$, so $x\\notin F$, so there exists neighbourhood $U\\subset\\overline F$, where $F\\bigcap U=\\emptyset$.Therefore $x$ is interior point of $\\overline F$ and that's why it's open set"
   ]
  },
  {
   "cell_type": "markdown",
   "metadata": {},
   "source": [
    "#### Prove that inherited metric is a metric"
   ]
  },
  {
   "cell_type": "markdown",
   "metadata": {},
   "source": [
    "## Limits of functions"
   ]
  },
  {
   "cell_type": "markdown",
   "metadata": {},
   "source": [
    "Let $f:S \\to Y$ is function between subset $S \\subset X$ of a metric space $(X, d_x)$ and metric space $(Y, d_Y)$\n",
    "- We say that the limit of function $f:(S, d_x) \\to (Y, d_Y)$ between metric spaces in some limit point $c \\in X$ of the subset $S$ is $y \\in Y $if for each open neighborhood of $y \\in V \\subset Y$ there exists the open neighborhood of $c \\in U \\subset X$ such that $f(U \\cap S) \\subset V$\n",
    "<br>\n",
    "This definition is equiualent of definition:\n",
    "<br>\n",
    "- The limit of function $f:(S, d_X) \\to (Y, d_Y)$ between metric spaces in limit point $c \\in X$ of the subset $S$ is $y \\in Y $ if for each open ball $B(x, r) \\subset Y$ there exists the ball $B(c, l) \\subset X$ such that $f(B(c, l) \\cap S) \\subset B(y, r)$\n",
    "<br>\n",
    "or\n",
    "<br>\n",
    "- The limit of function $f:(S, d_X) \\to (Y, d_Y)$ between metric spaces in limit point $c \\in X$ of subset $S$ is $y \\in Y $ if for any $r \\in \\mathbb{R}$ there exists $l \\in \\mathbb{R}$ such that for every $x \\in S$ with $d_X(x, c) < l$ implies that $d_Y(f(x), y) < r$"
   ]
  },
  {
   "cell_type": "markdown",
   "metadata": {},
   "source": [
    "#### Prove that this three definitions are equiualent for eny function between eny two metric spaces"
   ]
  },
  {
   "cell_type": "markdown",
   "metadata": {},
   "source": [
    "## Continuous functions "
   ]
  },
  {
   "cell_type": "markdown",
   "metadata": {},
   "source": [
    "#### Prove that function is continuous in $c$ if for eny sequence $(x_n)_{n=1}^{\\infty} \\subset X$ such that $\\lim_{n \\to \\infty}x_n = c$ we have $\\lim_{n \\to \\infty}f(x_n) = f(c)$<br>\n",
    "$f:R\\to R$ is continious in $\\in R$ if given $\\varepsilon>0$ there exists $\\delta>0$ such that:<br>\n",
    "$|x-c|<\\delta \\implies |f(x)-f(c)|<\\varepsilon$<br>\n",
    "Let show that this definition is equivalent to the given one<br>\n",
    "Let $\\lim_{n\\to\\infty}x_n=c$<br>\n",
    "So, $\\exists N_0$ such that for $n>N_0$ we have: $|x_n-c|<\\delta$<br>\n",
    "And $|x_n-c|<\\delta \\ \\ \\implies |f(x_n)-f(c)|<\\varepsilon \\ \\ \\implies \\lim_{n \\to \\infty}f(x_n) = f(c),$ where $n>N_0\\ \\ \\square$<br>"
   ]
  },
  {
   "cell_type": "markdown",
   "metadata": {},
   "source": [
    "#### Prove that function is continuous if for every open set $V \\subset Y$ the $f^{-1}(V)$ is open in $X$<br>\n",
    "First of all let say that every open $V\\in Y$ sets have $f^{-1}(V)$ open set in $X$. We want to show that $f$ is continouos at $\\forall x_0$.<br>\n",
    "Suppose that $y=f(x_0), \\varepsilon>0$ and $B(y,\\varepsilon)=B(f(x_0),\\varepsilon)$ is open in $Y$ <br>\n",
    "So, we have $f^{-1}(B(f(x_0),\\varepsilon))$ and it's open in $X$<br>\n",
    "Then $f(x_0)\\in B(f(x_0),\\varepsilon)$ and $x_0\\in f^{-1}(B(f(x_0),\\varepsilon))$ which is open in $X$.<br>\n",
    "That's why $\\exists\\delta>0$: $B'(x_0,\\delta)\\subset f^{-1}(B(f(x_0),\\varepsilon))$ and $f(B'(x_0,\\delta))\\subset B(f(x_0),\\varepsilon)$<br>\n",
    "So, $f$ is continuous."
   ]
  },
  {
   "cell_type": "markdown",
   "metadata": {},
   "source": [
    "#### Prove that function is continuous if for every closed set $F \\subset Y$ the $f^{-1}(F)$ is closed in $X$<br>\n",
    "First of all let say that every closed $F$ sets have $f^{-1}(F)$ in $X$.<br>\n",
    "We know that $f^{-1}(F)$ is closed set.Let $V$ be an open set in $Y$, so $Y-V$ is closed and also $f^{-1}(Y-V)$.<br>\n",
    "It's clear that: $f^{-1}(Y-V)=f^{-1}(X)- f^{-1}(Y)=X- f^{-1}(V)\\implies \\ \\ X- f^{-1}(V)$ is closed and f^{-1}(V) is open in $X$<br>\n",
    "From the above proof $f$ is continuous"
   ]
  },
  {
   "cell_type": "markdown",
   "metadata": {},
   "source": [
    "#### Prove that any composition of continous functions is continous<br>\n",
    "Let $f:R\\to R$ and $g:R\\to R$<br>\n",
    "$f$ is continious at the point c if:<br>\n",
    "$\\lim_{x\\to c}=f(c),$ where $c\\in R$<br>\n",
    "Same for $g:Y\\to Z $function:<br>\n",
    "$\\lim_{y\\to c'}g(y)=g(c'),$ where $c'\\in R$<br>\n",
    "Consider $f(x)=y,$ then:<br>\n",
    "$\\lim_{x\\to c}g(f(x))=\\lim_{y\\to c'}g(y)=g(c') \\ \\ \\square$"
   ]
  },
  {
   "cell_type": "code",
   "execution_count": null,
   "metadata": {},
   "outputs": [],
   "source": []
  }
 ],
 "metadata": {
  "kernelspec": {
   "display_name": "Python 3",
   "language": "python",
   "name": "python3"
  },
  "language_info": {
   "codemirror_mode": {
    "name": "ipython",
    "version": 3
   },
   "file_extension": ".py",
   "mimetype": "text/x-python",
   "name": "python",
   "nbconvert_exporter": "python",
   "pygments_lexer": "ipython3",
   "version": "3.7.4"
  }
 },
 "nbformat": 4,
 "nbformat_minor": 4
}
