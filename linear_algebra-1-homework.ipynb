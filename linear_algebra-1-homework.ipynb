{
 "cells": [
  {
   "cell_type": "code",
   "execution_count": null,
   "metadata": {},
   "outputs": [],
   "source": [
    "%load_ext autoreload\n",
    "%autoreload 2\n",
    "\n",
    "%matplotlib inline"
   ]
  },
  {
   "cell_type": "markdown",
   "metadata": {},
   "source": [
    "## Basic setup"
   ]
  },
  {
   "cell_type": "markdown",
   "metadata": {},
   "source": [
    "Create anaconda environment\n",
    "<br>\n",
    "```bash\n",
    "conda create -n ml python=3.7.4 jupyter\n",
    "```\n",
    "Install fastai library\n",
    "<br>\n",
    "```bash\n",
    "conda install -c pytorch -c fastai fastai\n",
    "```"
   ]
  },
  {
   "cell_type": "markdown",
   "metadata": {},
   "source": [
    "# Set theory basics"
   ]
  },
  {
   "cell_type": "code",
   "execution_count": null,
   "metadata": {},
   "outputs": [],
   "source": [
    "! conda install numpy"
   ]
  },
  {
   "cell_type": "markdown",
   "metadata": {},
   "source": [
    "#### Prove that:\n",
    "<br>\n",
    "$A \\subseteq A$<br>\n",
    "$\\forall$ a $\\in$ A $\\implies$ a $\\in$A\n"
   ]
  },
  {
   "cell_type": "markdown",
   "metadata": {},
   "source": [
    "#### Prove that:\n",
    "<br>\n",
    "If $A \\subseteq B$ and $B \\subseteq A$ $\\to$ $A = B$<br>\n",
    "$\\forall$ a $\\in$ A $\\implies$ a$\\in$ B (1) $\\land$ $\\forall$ a $\\in$ B $\\implies$ a $\\in$ A (2)<br>\n",
    "(1) $\\land$ (2) $\\implies$ A=B"
   ]
  },
  {
   "cell_type": "markdown",
   "metadata": {},
   "source": [
    "#### Prove that:\n",
    "<br>\n",
    "if $B \\subset A$ then $A \\cap B = B$<br>\n",
    "$\\forall$ a $\\in$ B $\\implies$ a $\\in$ A <br>\n",
    "$\\forall$ a $\\in$ B $\\implies$ a $\\in$ A$\\cap$B <br>\n",
    "We have to prove that, $\\exists$ a $\\in$ A: a$\\notin$ B<br>\n",
    "Assume that $\\forall$ a $\\in$ A: a$\\in$ B (*)<br>\n",
    "(*) $\\implies$ A=B <br>\n",
    "It means our assumtion was wrong. $\\square$"
   ]
  },
  {
   "cell_type": "markdown",
   "metadata": {},
   "source": [
    "#### Prove that:\n",
    "<br>\n",
    "$A \\cap B = B \\cap A$<br>\n",
    "We have to prove that $\\forall$ a $\\in$ A$\\cap$B $\\iff$ $\\forall$ a $\\in$ B$\\cap$A<br>\n",
    "$\\forall$ a $\\in$ A$\\cap$B $\\implies$ a$\\in$A $\\land$ a$\\in$B $\\implies$ a$\\in$ B$\\cap$A <br>\n",
    "And vice-versa $\\square$"
   ]
  },
  {
   "cell_type": "markdown",
   "metadata": {},
   "source": [
    "#### Prove that:\n",
    "<br>\n",
    "if $B \\subset A$ then $A \\cup B = A$<br>\n",
    "$\\forall$ a $\\in$ B $\\implies$ a $\\in$ A <br>\n",
    "A $\\subset$ A$\\cup$B <br>\n",
    "So, we have to prove that A$\\cup$B $\\subset$ A it means that <br>\n",
    "$\\forall$ a $\\in$ A$\\cup$B $\\implies$ a $\\in$A <br>\n",
    "Assume that, $\\exists$a $\\in$ A$\\cup$B: a$\\notin$ A (*) <br>\n",
    "(*) $\\implies$ a $\\in$ B: a $\\notin$ A<br>\n",
    "Our assumtion was wrong $\\square$"
   ]
  },
  {
   "cell_type": "markdown",
   "metadata": {},
   "source": [
    "#### Prove that:\n",
    "<br>\n",
    "$A \\cup B = B \\cup A$<br>\n",
    "We have to prove that $\\forall$ a $\\in$ A$\\cap$B $\\iff$ $\\forall$ a $\\in$ B$\\cap$A<br>\n",
    "$\\forall$ a $\\in$ A$\\cup$B $\\implies$ a$\\in$A $\\lor$ a$\\in$B $\\implies$ a$\\in$ B$\\cup$A <br>\n",
    "And vice-versa $\\square$"
   ]
  },
  {
   "cell_type": "markdown",
   "metadata": {},
   "source": [
    "#### Prove that:\n",
    "- for every injection $m:A \\to B$ and pair of functions $f, g :C \\to A$: if $m \\circ f = m \\circ g$ then $f = g$ and vice-versa<br>\n",
    "m is injection (1) <br>\n",
    "f(x),g(x)$\\in$ A, x$\\in$C $\\land$ m(f(x))=m(g(x)) (2)<br>\n",
    "(1) $\\land$ (2) $\\implies$ f(x)=g(x)<br>\n",
    "\n",
    "  if f=g $\\implies$ m(f)=m(g)\n",
    "- for every surjection $e:A \\to B$ and every pair of functions $f, g :B \\to C$: if $f \\circ e = g \\circ e$ then $f = g$ and vice-versa<br>\n",
    "$f(e)=g(e) \\implies (\\forall x)(f(e(x))=g(e(x)).$ $e$ is surjection, so $\\forall y\\ \\ \\exists x:e(x)=y \\implies f(y)=g(y)\\implies f=g (*)$<br>\n",
    "$(*)\\implies \\forall x: f(x)=g(x)\\implies f(e(x))=g(e(x)).$\n"
   ]
  },
  {
   "cell_type": "markdown",
   "metadata": {},
   "source": [
    "#### Prove that \n",
    "- composition of injections is injection itself<br>\n",
    "f:A$\\to$B $\\land$ g:B$\\to$C functions are injections<br>\n",
    "it means: $\\forall$a,b: a$\\neq$b $\\implies$ f(a)$\\neq$f(b) <br>\n",
    "$\\forall$a',b': a'$\\neq$b' $\\implies$ g(a')$\\neq$g(b') <br>\n",
    "We have to prove that:<br>\n",
    "$\\forall$a,b:a$\\neq$b g(f(a))$\\neq$g(f(b))<br>\n",
    "We know f(a)$\\neq$f(b)<br>\n",
    "Let f(a)=a' $\\land$ f(b)=b'<br>\n",
    "So we have to prove that:<br>\n",
    "$\\forall$a',b': a'$\\neq$b' $\\implies$ g(a')$\\neq$g(b') and it's comes from the definition.\n",
    "\n",
    "- composition of surjections is surjection itself<br>\n",
    "f:A$\\to$B $\\forall$y$\\in$B $\\exists$x$\\in$A:f(x)=y <br>\n",
    "g:B$\\to$C $\\forall$y'$\\in$C $\\exists$x'$\\in$B:f(x')=y' <br>\n",
    "We have to prive that:<br>\n",
    "g:B$\\to$C $\\forall$y$\\in$C $\\exists$x$\\in$A: g(f(x))=y' <br>\n",
    "Let f(x)=x' <br>\n",
    "So we have to prove that: <br>\n",
    "g:B$\\to$C $\\forall$y'$\\in$C $\\exists$x'$\\in$B: g(x')=y' <br>\n",
    "and it's come from the definition.\n",
    "- composition of bijections is bijection itself<br>\n",
    "g(f) is injection and surjection as we've already proved,so g(f) is a bijection.\n",
    "<br>\n",
    "$$\n",
    "or give a counterexamples"
   ]
  },
  {
   "cell_type": "markdown",
   "metadata": {},
   "source": [
    "#### Prove that for each set $A$:\n",
    "- $A \\cong A$<br>\n",
    "$Card(A)=Card(A) \\implies A \\cong A$\n",
    "- if $B \\cong A$ then $A \\cong B$ for every pair of sets $A$ and $B$<br>\n",
    "$Card(A)=Card(B) \\implies Card(B)=Card(A) \\implies B \\cong A$\n",
    "- if $A \\cong B$ and $B \\cong C$ then $A \\cong C$ for every triplet $A$, $B$ and $C$<br>\n",
    "$Card(A)=Card(B) \\land Card(B)=Card(C) \\implies Card(A)=Card(C) \\implies A \\cong C$"
   ]
  },
  {
   "cell_type": "markdown",
   "metadata": {},
   "source": [
    "#### Prove that:\n",
    "<br>\n",
    "there exists a bijection between set of natural and even numbers<br>\n",
    "Consider f(x)=2x where x$\\in$$N$ and this function is bijective<br>"
   ]
  },
  {
   "cell_type": "markdown",
   "metadata": {},
   "source": [
    "#### Prove that:\n",
    "<br>\n",
    "if we have a bijection between two finite sets than they have an equal number of elements<br>\n",
    "Let $f:X\\to Y$ <br>\n",
    "Assume that quantity of elements of $X$ is less than quantity of elements of $Y$, so $\\exists x \\in X: f(x)$ has at least two values.<br>\n",
    "So, $f$ isn't injective therefore $f$ isn't bijective.<br>\n",
    "If quantity of elements of $X$ is more than quantity of elements of $Y$ and  $\\exists y \\in Y: f^{-1}(x)$ has at least two values.<br>\n",
    "So, $f$ isn't injective therefore $f$ isn't bijective.<br>"
   ]
  },
  {
   "cell_type": "markdown",
   "metadata": {},
   "source": [
    "\n",
    "#### Prove that:\n",
    "<br>\n",
    "$A \\times B \\cong B \\times A$<br>\n",
    "$A\\times B = {(a, b):a \\in A \\land b \\in B}$ and $B\\times A = {(b, a):b \\in B \\land a \\in A}$<br>\n",
    "Quantity of (a,b) and (b,a) is the same. $\\square$"
   ]
  },
  {
   "cell_type": "markdown",
   "metadata": {},
   "source": [
    "$\\cap_{i\\in I}A_i$ and $\\cup_{i\\in I}A_i$"
   ]
  },
  {
   "cell_type": "code",
   "execution_count": 27,
   "metadata": {},
   "outputs": [
    {
     "data": {
      "text/plain": [
       "{3}"
      ]
     },
     "execution_count": 27,
     "metadata": {},
     "output_type": "execute_result"
    }
   ],
   "source": [
    "A = [{1,2,3}, {2,3,4},{3,4,5}]\n",
    "def intersection(A):\n",
    "    intersect = A[1]\n",
    "    for item in A:\n",
    "        intersect = intersect.intersection(item)\n",
    "    return intersect\n",
    "intersection(A)"
   ]
  },
  {
   "cell_type": "markdown",
   "metadata": {},
   "source": [
    "We can also define cartesian product of any \"number\" of sets $\\prod_{i \\in I}{A_i}$"
   ]
  },
  {
   "cell_type": "code",
   "execution_count": 1,
   "metadata": {
    "scrolled": true
   },
   "outputs": [
    {
     "name": "stdout",
     "output_type": "stream",
     "text": [
      "Union of A: {1, 2, 3, 4, 5}\n",
      "Cartesian product:\n",
      "(1, 2, 1)\n",
      "(1, 2, 2)\n",
      "(1, 2, 5)\n",
      "(1, 3, 1)\n",
      "(1, 3, 2)\n",
      "(1, 3, 5)\n",
      "(1, 4, 1)\n",
      "(1, 4, 2)\n",
      "(1, 4, 5)\n",
      "(2, 2, 1)\n",
      "(2, 2, 2)\n",
      "(2, 2, 5)\n",
      "(2, 3, 1)\n",
      "(2, 3, 2)\n",
      "(2, 3, 5)\n",
      "(2, 4, 1)\n",
      "(2, 4, 2)\n",
      "(2, 4, 5)\n",
      "(3, 2, 1)\n",
      "(3, 2, 2)\n",
      "(3, 2, 5)\n",
      "(3, 3, 1)\n",
      "(3, 3, 2)\n",
      "(3, 3, 5)\n",
      "(3, 4, 1)\n",
      "(3, 4, 2)\n",
      "(3, 4, 5)\n"
     ]
    }
   ],
   "source": [
    "A = [{1,2,3}, {2,3,4},{3,4,5}]\n",
    "def union(A):\n",
    "    A_union = A[0]\n",
    "    for item in A:\n",
    "        A_union = A_union.union(item)\n",
    "    return A_union\n",
    "print('Union of A:',union(A))\n",
    "\n",
    "\n",
    "import itertools\n",
    "A = [{1,2,3}, {2,3,4},{2,1,5}]\n",
    "print('Cartesian product:')\n",
    "for item in itertools.product(*A):\n",
    "    print(item)"
   ]
  },
  {
   "cell_type": "markdown",
   "metadata": {},
   "source": [
    "#### Prove that:\n",
    "<br>\n",
    "$$A \\cap (B \\cup C)=(A \\cap B) \\cup (A\\cap C)$$<br>\n",
    "Let $x \\in A \\cap (B \\cup C)$. Therefore $x \\in A \\land x \\in (B \\cup C)$. So $x \\in A \\land (x \\in B \\lor x \\in C)$.<br> If $x \\in A \\land x \\in B \\implies x \\in A \\cap B \\implies x \\in ((A \\cap B) \\cup (A\\cap C))$ $\\ \\ \\ (1) $<br> if $x \\in A \\land x \\in C \\implies x \\in A\\cap C \\implies x \\in ((A \\cap B) \\cup (A\\cap C))$ $\\ \\ \\ (1') $<br>\n",
    "$(1) \\land (1') \\implies $$A \\cap (B \\cup C) \\subset (A \\cap B) \\cup (A\\cap C)$ $\\ \\ \\ (*)$ <br>\n",
    "let $x \\in (A \\cap B) \\cup (A\\cap C) \\implies x \\in A \\cap B \\lor x \\in A \\cap C.$ <br>\n",
    "If $x \\in A \\cap B \\implies x\\in A \\land x \\in B \\implies x \\in A \\land x \\in B \\cup C \\implies x \\in A \\cap (B \\cup C) \\ \\ \\ (2)$ <br>\n",
    "If $x \\in A \\cap C \\implies x \\in A \\land x \\in C \\implies x \\in A \\land x \\in B \\cup C \\implies x \\in A \\cap (B \\cup C)\\ \\ \\ (2') $ <br>\n",
    "$(2) \\land (2') \\implies (A \\cap B) \\cup (A\\cap C) \\subset A \\cap (B \\cup C) \\ \\ \\ (**)$ <br>\n",
    "$(*) \\land (**) \\implies A \\cap (B \\cup C)=(A \\cap B) \\cup (A\\cap C)$ <br>\n",
    "\n",
    "\n",
    "$$A \\cup (B \\cap C)=(A \\cup B) \\cap (A\\cup C)$$<br>\n",
    "let $x \\in A \\cup (B \\cap C) \\implies x \\in A \\lor x \\in B \\cap C$. <br>\n",
    "If $x \\in A \\implies x \\in (A \\cup B) \\cap (A\\cup C) \\ \\ \\ (1)$ <br>\n",
    "If $x \\in B \\cap C \\implies x \\in B \\land x \\in C \\implies x \\in A \\cup B \\land x \\in A \\cup C \\implies x \\in (A \\cup B) \\cap (A\\cup C) \\ \\ \\ (1')$ <br>\n",
    "$(1) \\land (1') \\implies A \\cup (B \\cap C) \\subset ((A \\cup B) \\cap (A\\cup C)) \\ \\ \\ (*)$ <br>\n",
    "let $x \\in (A \\cup B) \\cap (A\\cup C) \\implies x \\in (A \\cup B) \\land x \\in (A\\cup C) \\implies (x \\in A \\lor x \\in B) \\land (x \\in A \\lor x \\in C)$ <br>\n",
    "If $x \\in A \\implies x \\in A \\cup (B \\cap C) \\ \\ \\ (2) $ <br>\n",
    "If $x \\notin A \\implies x \\in B \\land x \\in C \\implies x\\in B \\cap C \\implies x \\in A \\cup (B \\cap C) \\ \\ \\ (2')$ <br>\n",
    "$(2) \\land (2') \\implies ((A \\cup B) \\cap (A\\cup C)) \\subset A \\cup (B \\cap C) \\ \\ \\ (**)$ <br>\n",
    "$(*) \\land (**) \\implies A \\cup (B \\cap C)=(A \\cup B) \\cap (A\\cup C)$ "
   ]
  },
  {
   "cell_type": "markdown",
   "metadata": {},
   "source": [
    "# Linear Algebra"
   ]
  },
  {
   "cell_type": "markdown",
   "metadata": {},
   "source": [
    "#### Prove that:\n",
    "<br>\n",
    "$(AB)^{T} = B^{T}A^{T}$ for each pair of matrices $A, B \\in \\mathbb{R}^{n \\times m}$<br>\n",
    "$(AB)_{ij}=\\sum_{k=1}^n=a_{ik}b_{kj}$<br>\n",
    "$[(AB)_{ij}]^T=\\sum_{k=1}^n=a_{jk}b_{ki}$<br>\n",
    "$(AB)_{ji}=\\sum_{k=1}^n=b_{ik}a_{kj}$<br>\n",
    "$B^TA^T=(B_{ik})^T(A_{kj})^T=\\sum_{k=1}^n=b_{ki}a_{jk}=\\sum_{k=1}^n=a_{ik}b_{kj}=[(AB)_{ij}]^T$"
   ]
  },
  {
   "cell_type": "markdown",
   "metadata": {},
   "source": [
    "## Functions on tensors"
   ]
  },
  {
   "cell_type": "markdown",
   "metadata": {},
   "source": [
    "#### Write combination for $XOR$ calculation"
   ]
  },
  {
   "cell_type": "code",
   "execution_count": null,
   "metadata": {},
   "outputs": [],
   "source": [
    "import numpy as np\n",
    "import math\n",
    "sig = np.vectorize(lambda x: 1 / (1 + math.exp(-x)))\n",
    "W = np.array([20, 20]) # Weights\n",
    "b = np.array([-30]) # bias\n",
    "ff = lambda _X, _W, _b: sig(np.dot(_W.T, _X) + _b)\n",
    "BA = [[0, 0], [0, 1], [1, 0], [1, 1]]\n",
    "b1 = np.array([-30])\n",
    "b2 = np.array([-10])\n",
    "for ba in BA:\n",
    "    print(ba, np.around(ff(ba, W, b2))-np.around(ff(ba, W, b1)))"
   ]
  },
  {
   "cell_type": "code",
   "execution_count": null,
   "metadata": {},
   "outputs": [],
   "source": []
  },
  {
   "cell_type": "code",
   "execution_count": null,
   "metadata": {},
   "outputs": [],
   "source": []
  }
 ],
 "metadata": {
  "kernelspec": {
   "display_name": "Python 3",
   "language": "python",
   "name": "python3"
  },
  "language_info": {
   "codemirror_mode": {
    "name": "ipython",
    "version": 3
   },
   "file_extension": ".py",
   "mimetype": "text/x-python",
   "name": "python",
   "nbconvert_exporter": "python",
   "pygments_lexer": "ipython3",
   "version": "3.7.4"
  }
 },
 "nbformat": 4,
 "nbformat_minor": 4
}
